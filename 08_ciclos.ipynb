{
 "cells": [
  {
   "cell_type": "markdown",
   "metadata": {},
   "source": [
    "[![imagenes](imagenes/BannerCB.png)](https://cursoscomputacion2.wixsite.com/python)"
   ]
  },
  {
   "cell_type": "markdown",
   "metadata": {},
   "source": [
    "# Ciclos, iteraciones e interrupciones de ejecución.\n",
    "\n",
    "## Ciclos con _while_.\n",
    "\n",
    "Python cuenta con la palabra reservada *while* para ejecutar un bloque de código recursivamente mientras se cumpla una condición determinada. Cuando la expresión lógica evaluada por *while* sea *False* , el flujo de ejecución continuará sin ejecutar el bloque dentro de _while_.\n",
    "\n",
    "Python cuenta con la palabra reservada *while* para ejecutar un bloque de código recursivamente mientras se cumpla una condición determinada. Cuando la expresión lógica evaluada por *while* sea *False* , el flujo de ejecución continuará sin ejecutar el bloque dentro de _while_.\n",
    "\n",
    "```\n",
    "<flujo principal>\n",
    "...\n",
    "...\n",
    "while <expresión lógica>:\n",
    "     <bloque inscrito a while>\n",
    "<flujo principal>\n",
    "```\n",
    "A continuación se muestra un diagrama de flujo que ejemplifica al uso de *while*:\n",
    "![while](imagenes/while.png)\n",
    "\n",
    "**Ejemplo:**"
   ]
  },
  {
   "cell_type": "code",
   "execution_count": null,
   "metadata": {},
   "outputs": [],
   "source": [
    "''' Este programa se repetirá 3 veces o hasta que se ingrese\n",
    "    la palabra \"despedida\" y desplegará el número de intentos\n",
    "    hasta que cualquiera de los eventos ocurra.'''\n",
    "\n",
    "entrada = \"\"\n",
    "suma = 0\n",
    "while suma < 3 and entrada != \"despedida\":\n",
    "    entrada = input(\"Clave: \")\n",
    "    suma += 1\n",
    "    print(\"Intento %d. \\n \" % suma)\n",
    "print(\"Utilizaste %d intentos.\" % suma)"
   ]
  },
  {
   "cell_type": "markdown",
   "metadata": {},
   "source": [
    "Si la condición es siempre cierta, el ciclo while se ejecutará para siempre (bucle infinito) si no se termina con una instrucción break o return o una excepción.\n",
    "\n",
    "```\n",
    "while True:\n",
    "    print \"Infinite loop\"\n",
    "```"
   ]
  },
  {
   "cell_type": "markdown",
   "metadata": {},
   "source": [
    "## Interrupciones de ejecución de un bloque.\n",
    "\n",
    "En ciertas circunstancias es necesario interrumpir el flujo lógico de un programa. Python cuenta con los siguientes recursos para hacerlo.\n",
    "\n",
    "* La palabra reservada _continue_.\n",
    "* La palabra reservada _break_.\n",
    "* La función _exit()_.\n",
    "\n",
    "### La palabra reservada _continue_.\n",
    "\n",
    "La palabra reservada *continue* termina de forma prematura la ejecución de un bloque dentro de un ciclo.\n",
    "\n",
    "A continuación se muestra un diagrama de flujo que ejemplifica al uso de *continue* dentro de un ciclo con *while*:\n",
    "![while-continue](imagenes/while-continue.png)\n",
    "\n",
    "**Ejemplo:**"
   ]
  },
  {
   "cell_type": "code",
   "execution_count": null,
   "metadata": {},
   "outputs": [],
   "source": [
    "''' Este programa se repetirá 3 veces y desplegará el número de intentos en los\n",
    "    que se ingresó la palabra \"despedida\".'''\n",
    "\n",
    "entrada = \"\"\n",
    "suma = 0\n",
    "fallido = 0\n",
    "while suma < 3:\n",
    "    suma += 1\n",
    "    print(\"Intento %d.\" % suma)\n",
    "    entrada = input(\"Clave: \")\n",
    "    print()\n",
    "    # Al ingresar \"despedida\", se evita que la variable fallido se incremente.\n",
    "    if entrada == \"despedida\":\n",
    "        continue\n",
    "        \n",
    "    fallido += 1\n",
    "print(\"Tuviste %d intentos fallidos.\" % fallido)"
   ]
  },
  {
   "cell_type": "markdown",
   "metadata": {},
   "source": [
    "###  La palabra reservada _break_.\n",
    "\n",
    "La palabra reservada *break* termina prematuramente la ejecución del bloque de código en el que se encuentra y restablece el flujo de ejecución al bloque de código que lo precede.\n",
    "\n",
    "A continuación se muestra un diagrama de flujo que ejemplifica al uso de *break* dentro de un ciclo con *while*:\n",
    "![while-break](imagenes/while-break.png)\n",
    "\n",
    "**NOTA:** *break* no sólo se puede aplicar a ciclos o iteraciones, sino también a funciones, métodos y a cualquier elemento que contenga bloques de código ejecutable. \n",
    "\n",
    "**Ejemplo:**"
   ]
  },
  {
   "cell_type": "code",
   "execution_count": null,
   "metadata": {},
   "outputs": [],
   "source": [
    "''' Este programa se repetirá 3 veces o hasta que se ingrese\n",
    "    la palabra \"despedida\" y desplegará sólo el número de intentos\n",
    "    fallidos hasta que cualquiera de los eventos ocurra.'''\n",
    "\n",
    "suma = 0\n",
    "while suma < 3:\n",
    "    entrada = input(\"Clave:\")\n",
    "    #Si se ingresa la palabra \"despedida, se termina el ciclo.\n",
    "    if entrada == \"despedida\":\n",
    "        break\n",
    "    suma = suma + 1\n",
    "    print(\"Intento %d. \\n \" % suma)\n",
    "print(\"Tuviste %d intentos fallidos.\" % suma)\n"
   ]
  },
  {
   "cell_type": "markdown",
   "metadata": {},
   "source": [
    "### La función *exit()*.\n",
    "\n",
    "La función *exit()* termina la ejecución de un programa y cierra el intérprete de Python.\n",
    "\n",
    "A continuación se muestra un diagrama de flujo que ejemplifica al uso de *exit* dentro de un ciclo con *while*:\n",
    "![while-exit()](imagenes/while-exit.png)\n",
    "\n",
    "**Advertencia:** En el caso de las notebooks de Jupyter, cuando el servidor detecta que el kernel se detiene, levanta uno nuevo."
   ]
  },
  {
   "cell_type": "code",
   "execution_count": null,
   "metadata": {},
   "outputs": [],
   "source": [
    "exit()"
   ]
  },
  {
   "cell_type": "markdown",
   "metadata": {},
   "source": [
    "#### El script *[while_exit.py](codigo/while_exit.py)*.\n",
    "\n",
    "Este script detendrá la ejecución de un programa al ingresar la cadena de caracteres \"*termina*\". \n",
    "\n",
    "**Advertencia:** Debido a las características de Jupyter, este script debe de ser ejecutado mediante el intérprete convencional de Python.\n",
    "\n",
    "**El código:**"
   ]
  },
  {
   "cell_type": "code",
   "execution_count": 1,
   "metadata": {},
   "outputs": [
    {
     "name": "stdout",
     "output_type": "stream",
     "text": [
      "Clave:termina\n",
      "Intento 1. \n",
      " \n",
      "Clave:termina\n",
      "Intento 2. \n",
      " \n",
      "Clave:termina\n",
      "Intento 3. \n",
      " \n",
      "Tuviste 3 intentos fallidos.\n"
     ]
    }
   ],
   "source": [
    "#! /usr/bin/python3\n",
    "\n",
    "''' Este programa se repetirá 3 veces o hasta que se ingrese\n",
    "    la palabra \"despedida\" y desplegará sólo el número de intentos\n",
    "    fallidos hasta que cualquiera de los eventos ocurra. Al\n",
    "    ingresar la palabra \"termina\" el programa se detendrá.'''\n",
    "\n",
    "entrada = \"\"\n",
    "suma = 0\n",
    "while suma < 3:\n",
    "    entrada = input(\"Clave:\")\n",
    "    if entrada == \"despedida\":\n",
    "        break\n",
    "    elif entrada == \"termina\":\n",
    "        exit()\n",
    "    suma = suma + 1\n",
    "    print(\"Intento %d. \\n \" % suma)\n",
    "print(\"Tuviste %d intentos fallidos.\" % suma)"
   ]
  },
  {
   "cell_type": "markdown",
   "metadata": {},
   "source": [
    "<p style=\"text-align: center\"><a rel=\"license\" href=\"http://creativecommons.org/licenses/by/4.0/\"><img alt=\"Licencia Creative Commons\" style=\"border-width:0\" src=\"https://i.creativecommons.org/l/by/4.0/80x15.png\" /></a><br />Esta obra está bajo una <a rel=\"license\" href=\"http://creativecommons.org/licenses/by/4.0/\">Licencia Creative Commons Atribución 4.0 Internacional</a>.</p>\n",
    "<p style=\"text-align: center\">&copy; Alejandro Bolívar. 2020.</p>"
   ]
  }
 ],
 "metadata": {
  "kernelspec": {
   "display_name": "Python 3",
   "language": "python",
   "name": "python3"
  },
  "language_info": {
   "codemirror_mode": {
    "name": "ipython",
    "version": 3
   },
   "file_extension": ".py",
   "mimetype": "text/x-python",
   "name": "python",
   "nbconvert_exporter": "python",
   "pygments_lexer": "ipython3",
   "version": "3.6.7"
  },
  "toc": {
   "base_numbering": 1,
   "nav_menu": {},
   "number_sections": true,
   "sideBar": true,
   "skip_h1_title": false,
   "title_cell": "Table of Contents",
   "title_sidebar": "Contents",
   "toc_cell": false,
   "toc_position": {},
   "toc_section_display": true,
   "toc_window_display": true
  },
  "varInspector": {
   "cols": {
    "lenName": 16,
    "lenType": 16,
    "lenVar": 40
   },
   "kernels_config": {
    "python": {
     "delete_cmd_postfix": "",
     "delete_cmd_prefix": "del ",
     "library": "var_list.py",
     "varRefreshCmd": "print(var_dic_list())"
    },
    "r": {
     "delete_cmd_postfix": ") ",
     "delete_cmd_prefix": "rm(",
     "library": "var_list.r",
     "varRefreshCmd": "cat(var_dic_list()) "
    }
   },
   "types_to_exclude": [
    "module",
    "function",
    "builtin_function_or_method",
    "instance",
    "_Feature"
   ],
   "window_display": false
  }
 },
 "nbformat": 4,
 "nbformat_minor": 1
}
