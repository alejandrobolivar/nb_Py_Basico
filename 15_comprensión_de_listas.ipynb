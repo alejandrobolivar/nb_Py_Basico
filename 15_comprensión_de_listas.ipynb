{
 "cells": [
  {
   "cell_type": "markdown",
   "metadata": {},
   "source": [
    "[![imagenes](imagenes/BannerCB.png)](https://cursoscomputacion2.wixsite.com/python)"
   ]
  },
  {
   "cell_type": "markdown",
   "metadata": {},
   "source": [
    "# Completado de elementos en objetos que contengan iterables\n",
    "\n",
    "Python permite insertar código que genere una serie de objetos mediante iteradores y condicionales. Este \"autollenado\" de elementos se conoce por su nombre en inglés \"comprehension\" y se puede aplicar entre otros a objetos de tipo.\n",
    "\n",
    "* _list_.\n",
    "* _tuple_.\n",
    "* _dict_.\n",
    "* _set_.\n",
    "* _forzenset_.\n",
    "\n",
    "# Comprensión de listas.\n",
    "\n",
    "Una lista de comprensión es una herramienta sintáctica para crear listas de forma natural y concisa, como se ilustra en el siguiente código para hacer una lista de cuadrados de los números del 1 al 10:\n",
    "``` python\n",
    "[i ** 2 for i in range(1,11)] \n",
    "```\n",
    "El iterador i de un range lista existente se usa para hacer un nuevo patrón de elemento. Se usa donde un bucle for sería necesario en lenguajes menos expresivos.\n",
    "\n",
    "**Sintaxis**\n",
    "```python\n",
    "• [i for i in range (10)] # lista de comprensión básica\n",
    "• [i for i in xrange (10)] # lista de comprensión básica con objeto generador en Python 2.x\n",
    "• [i for i in range (20) if i% 2 == 0] # con filtro\n",
    "• [x + y for x in [1, 2, 3] for y in [3, 4, 5]] # bucles anidados\n",
    "• [i if i> 6 else 0 for i in range (10)] # expresión ternaria\n",
    "• [i if i> 4 else 0 for i in range (20) if i% 2 == 0] # con filtro y expresión ternaria\n",
    "• [[x + y for x in [1, 2, 3]] for y in [3, 4, 5]] # comprensión de lista anidada\n",
    "```"
   ]
  },
  {
   "cell_type": "markdown",
   "metadata": {},
   "source": [
    "## Ejemplos:\n",
    "\n",
    "### Lista de comprensiones condicionales\n",
    "Dada una lista de comprensión , puede agregar uno o más if condiciones para filtrar los valores.\n",
    "```\n",
    "[<expresión que puede incluir a <element>> for <element> in <iterable> if <expresión lógica que puede implicar a <element>>>]\n",
    "```\n",
    "El proceso de completado es el siguiente:\n",
    "* Realiza la iteración definida por la expresión _for_ .. *in*.\n",
    "* A cada elemento iterado le aplica la condición lógica.\n",
    "* Si la condición lógica se cumple, añade a la lista a devolver el resultado de la expresión (generalmente una función de <element>).\n",
    "\n",
    "Es válido no incluir una expresión condicional.\n",
    "\n",
    "*Ejemplos:*\n",
    "\n",
    "``` python\n",
    "# extraer solo números pares de una secuencia de enteros\n",
    "[x for x in range(10) if x % 2 == 0]\n",
    "# Out: [0, 2, 4, 6, 8]\n",
    "```\n",
    "El código anterior es equivalente a:\n",
    "\n",
    "``` python\n",
    "even_numbers = []\n",
    "for x in range (10):\n",
    "    if x % 2 == 0:\n",
    "        even_numbers.append(x)\n",
    "print(even_numbers)\n",
    "# Out: (0, 2, 4, 6, 8)\n",
    "``` "
   ]
  },
  {
   "cell_type": "code",
   "execution_count": 1,
   "metadata": {},
   "outputs": [
    {
     "data": {
      "text/plain": [
       "['H', 'o', 'l', 'a']"
      ]
     },
     "execution_count": 1,
     "metadata": {},
     "output_type": "execute_result"
    }
   ],
   "source": [
    "[x for x in 'Hola']"
   ]
  },
  {
   "cell_type": "code",
   "execution_count": null,
   "metadata": {},
   "outputs": [],
   "source": [
    "[5 * x for x in range(1, 21) if x % 2 == 0]"
   ]
  },
  {
   "cell_type": "code",
   "execution_count": null,
   "metadata": {},
   "outputs": [],
   "source": [
    "[letra.upper() for letra in 'Parangaricutirimicuaro' if letra.lower() not in ['a', 'e', 'i', 'o', 'u']]"
   ]
  },
  {
   "cell_type": "markdown",
   "metadata": {},
   "source": [
    "Usando el último ejemplo, el código sin utilizar completado de elementos sería algo similar a lo siguiente:"
   ]
  },
  {
   "cell_type": "code",
   "execution_count": null,
   "metadata": {},
   "outputs": [],
   "source": [
    "lista = []\n",
    "for letra in 'Parangaricutirimicuaro':\n",
    "    if letra.lower() not in ['a', 'e', 'i', 'o', 'u']:\n",
    "        lista.append(letra.upper())"
   ]
  },
  {
   "cell_type": "code",
   "execution_count": null,
   "metadata": {},
   "outputs": [],
   "source": [
    "print(lista)"
   ]
  },
  {
   "cell_type": "markdown",
   "metadata": {},
   "source": [
    "### Expresión ternaria\n",
    "\n",
    "``` python\n",
    "[x if x % 2 == 0 else None for x in range(10)]\n",
    "# Out: [0, None, 2, None, 4, None, 6, None, 8, None]\n",
    "```\n",
    "\n",
    "Aquí, la expresión condicional no es un filtro, sino un operador que determina el valor que se utilizará para los elementos de la lista:\n",
    "```\n",
    "[<expresión que puede incluir a <nombre>> if <condición lógica que puede implicar a <element>> else <expresión que puede incluir a <element>> for <element> in <objeto iterable>]\n",
    "```\n",
    "\n",
    "Esto se vuelve más obvio si lo combinas con otros operadores:\n",
    "``` python\n",
    "[2 * (x if x % 2 == 0 else -1) + 1 for x in range(10)]\n",
    "# Out: [1, -1, 5, -1, 9, -1, 13, -1, 17, -1]\n",
    "```\n",
    "\n",
    "El código anterior es equivalente a:\n",
    "``` python\n",
    "numbers = []\n",
    "for x in range(10):\n",
    "    if x % 2 == 0:\n",
    "        temp = x\n",
    "    else:\n",
    "        temp = -1\n",
    "    numbers.append(2 * temp + 1)\n",
    "print(numbers)\n",
    "# Out: [1, -1, 5, -1, 9, -1, 13, -1, 17, -1]\n",
    "```\n",
    "\n",
    "Se puede combinar expresiones ternarios y las condiciones *if*. El operador ternario trabaja en el\n",
    "resultado filtrado:\n",
    "\n",
    "``` python\n",
    "[x if x > 2 else '*' for x in range(10) if x % 2 == 0]\n",
    "# Out: ['*', '*', 4, 6, 8]\n",
    "```\n",
    "\n",
    "Lo mismo no podría haberse logrado solo por el operador ternario:\n",
    "\n",
    "``` python\n",
    "[x if (x > 2 and x % 2 == 0) else '*' for x in range(10)]\n",
    "# Out:['*', '*', '*', '*', 4, '*', 6, '*', 8, '*']\n",
    "```\n",
    "**Ejemplos:**"
   ]
  },
  {
   "cell_type": "code",
   "execution_count": null,
   "metadata": {},
   "outputs": [],
   "source": [
    "[x if x % 2 == 0 else 5 * x for x in range(1, 21)]"
   ]
  },
  {
   "cell_type": "code",
   "execution_count": 2,
   "metadata": {},
   "outputs": [
    {
     "data": {
      "text/plain": [
       "['M', 'u', 'R', 'C', 'i', 'e', 'L', 'a', 'G', 'o']"
      ]
     },
     "execution_count": 2,
     "metadata": {},
     "output_type": "execute_result"
    }
   ],
   "source": [
    "[letra.upper() if letra.lower() not in ['a', 'e', 'i', 'o', 'u'] else letra.lower() for letra in 'murcielago']"
   ]
  },
  {
   "cell_type": "markdown",
   "metadata": {},
   "source": [
    "### Lista de Comprensiones con Bucles Anidados\n",
    "\n",
    "Las Comprensiones de lista pueden usar ciclos *for* anidados. Puede codificar cualquier número de ciclos *for* anidados dentro de una lista por comprensión, y cada uno de los ciclos *for* puede tener o no una condicional *if*. Al hacerlo, el orden de escritura de los ciclos *for* es el mismo orden a la hora de escribir una serie de ciclos *for* anidado. La estructura general de las\n",
    "listas de comprensión se ve así:\n",
    "``` python\n",
    "[ expression for target1 in iterable1 [if condition1]\n",
    "             for target2 in iterable2 [if condition2]\n",
    "             ...\n",
    "             for targetN in iterableN [if conditionN] ]\n",
    "```\n",
    "Por ejemplo, el siguiente código aplana una lista de listas utilizando múltiples ciclos *for*:\n",
    "``` python\n",
    "data = [[1, 2], [3, 4], [5, 6]]\n",
    "output = []\n",
    "for each_list in data:\n",
    "    for element in each_list:\n",
    "        output.append(element)\n",
    "print(output)\n",
    "# Out: [1, 2, 3, 4, 5, 6]\n",
    "```\n",
    "se puede escribir de forma equivalente como una lista de comprensión con múltiples ciclos *for*:\n",
    "``` python\n",
    "data = [[1, 2], [3, 4], [5, 6]]\n",
    "output = [element for each_list in data for element in each_list]\n",
    "print(output)\n",
    "# Out: [1, 2, 3, 4, 5, 6]\n",
    "```\n",
    "\n",
    "Tanto en la forma expandida como en la lista de comprensión, el bucle externo (primero para la declaración) aparece primero. Además de ser más compacto, la comprensión anidada también es significativamente más rápida.\n",
    "\n",
    "``` python\n",
    "In [1]: data = [[1,2],[3,4],[5,6]]\n",
    "In [2]: def f():\n",
    "   ...:     output=[]\n",
    "   ...:     for each_list in data:\n",
    "   ...:         for element in each_list:\n",
    "   ...:             output.append(element)\n",
    "   ...: return output\n",
    "In [3]: timeit f()\n",
    "1000000 loops, best of 3: 1.37 µs per loop\n",
    "In [4]: timeit [inner for outer in data for inner in outer]\n",
    "1000000 loops, best of 3: 632 ns per loop\n",
    "```\n",
    "La sobrecarga para la llamada de la función anterior es de aproximadamente 140 ns.\n",
    "En la línea los *if* están anidados de manera similar, y puede ocurrir en cualquier posición después del primer *for*:\n",
    "``` python\n",
    "data = [[1], [2, 3], [4, 5]]\n",
    "output = [element for each_list in data\n",
    "          if len(each_list) == 2\n",
    "          for element in each_list\n",
    "          if element != 5]\n",
    "print(output)\n",
    "# Out: [2, 3, 4]\n",
    "```\n",
    "Sin embargo, por razones de legibilidad, debe considerar el uso de bucles for tradicionales. Esto es especialmente cierto cuando el anidamiento tiene más de 2 niveles de profundidad y / o la lógica de la comprensión es demasiado compleja. La comprensión de múltiples listas de bucles anidadas podría ser propensa a errores o dar un resultado inesperado.\n",
    "\n"
   ]
  },
  {
   "cell_type": "markdown",
   "metadata": {},
   "source": [
    "### Refactorización de filtro y mapa para enumerar las comprensiones.\n",
    "\n",
    "*Mapa\n",
    "``` python\n",
    "map(F, S) == [F(x) for x in S]\n",
    "```\n",
    "*Filtrar\n",
    "``` python\n",
    "filter(P, S) == [x for x in S if P(x)]\n",
    "```\n",
    "donde F y P son funciones que transforman respectivamente los valores de entrada y devuelven un *bool*\n",
    "\n"
   ]
  },
  {
   "cell_type": "markdown",
   "metadata": {},
   "source": [
    "### Comprensiones de lista anidadas\n",
    "Las comprensiones de listas anidadas, a diferencia de las comprensiones de listas con ciclos anidados, son comprensiones de listas dentro de una comprensión de listas. La expresión inicial puede ser cualquier expresión arbitraria, incluida otra lista de comprensión.\n",
    "``` python\n",
    "#List Comprehension with nested loop\n",
    "[x + y for x in [1, 2, 3] for y in [3, 4, 5]]\n",
    "#Out: [4, 5, 6, 5, 6, 7, 6, 7, 8]\n",
    "#Nested List Comprehension\n",
    "[[x + y for x in [1, 2, 3]] for y in [3, 4, 5]]\n",
    "#Out: [[4, 5, 6], [5, 6, 7], [6, 7, 8]]\n",
    "```\n",
    "El ejemplo anidado es equivalente a\n",
    "``` python\n",
    "l = []\n",
    "for y in [3, 4, 5]:\n",
    "    temp = []\n",
    "    for x in [1, 2, 3]:\n",
    "        temp.append(x + y)\n",
    "    l.append(temp)\n",
    "```\n",
    "Un ejemplo donde se puede usar una comprensión anidada para transponer una matriz.\n",
    "``` python\n",
    "matrix = [[1,2,3],\n",
    "          [4,5,6],\n",
    "          [7,8,9]]\n",
    "[[row[i] for row in matrix] for i in range(len(matrix))]\n",
    "# [[1, 4, 7], [2, 5, 8], [3, 6, 9]]\n",
    "```\n",
    "Al igual que anidado for bucles, no hay límite a cómo se pueden anidar las comprensiones\n",
    "profundas.\n",
    "``` python\n",
    "[[[i + j + k for k in 'cd'] for j in 'ab'] for i in '12']\n",
    "# Out: [[['1ac', '1ad'], ['1bc', '1bd']], [['2ac', '2ad'], ['2bc', '2bd']]]\n",
    "```\n",
    "Iterar dos o más listas simultáneamente dentro de la comprensión de la lista\n",
    "Para iterar más de dos listas simultáneamente dentro de la comprensión de la lista , se puede\n",
    "usar zip() como:\n",
    "``` python\n",
    ">>> list_1 = [1, 2, 3 , 4]\n",
    ">>> list_2 = ['a', 'b', 'c', 'd']\n",
    ">>> list_3 = ['6', '7', '8', '9']\n",
    "# Two lists\n",
    ">>> [(i, j) for i, j in zip(list_1, list_2)]\n",
    "[(1, 'a'), (2, 'b'), (3, 'c'), (4, 'd')]\n",
    "# Three lists\n",
    ">>> [(i, j, k) for i, j, k in zip(list_1, list_2, list_3)]\n",
    "[(1, 'a', '6'), (2, 'b', '7'), (3, 'c', '8'), (4, 'd', '9')]\n",
    "# so on ...\n",
    "```\n"
   ]
  },
  {
   "cell_type": "markdown",
   "metadata": {},
   "source": [
    "## Completado de elementos en objetos de tipo _tuple_.\n",
    "\n",
    "Cuando se utiliza el completado en un objeto tipo *tuple*, el objeto resultante es un generador.\n",
    "\n",
    "**Ejemplo:**\n"
   ]
  },
  {
   "cell_type": "code",
   "execution_count": null,
   "metadata": {},
   "outputs": [],
   "source": [
    "generador = (5 * x for x in range(1, 21) if x % 2 == 0)"
   ]
  },
  {
   "cell_type": "code",
   "execution_count": null,
   "metadata": {},
   "outputs": [],
   "source": [
    "type(generador)"
   ]
  },
  {
   "cell_type": "code",
   "execution_count": null,
   "metadata": {},
   "outputs": [],
   "source": [
    "print(generador)"
   ]
  },
  {
   "cell_type": "code",
   "execution_count": null,
   "metadata": {},
   "outputs": [],
   "source": [
    "for item in generador:\n",
    "    print(item)"
   ]
  },
  {
   "cell_type": "markdown",
   "metadata": {},
   "source": [
    "## Completado de elementos en objetos de tipo _dict_.\n",
    "\n",
    "En este caso, lo más común es que el elemento iterable sea el identificador.\n",
    "\n",
    "Sintaxis:\n",
    "```\n",
    "{<expresión que podría incluir a  <nombre>>:<expresión que podría incluir a  <nombre>>  for <variable> in <objeto iterable> if <expresión lógica que podría implicar a <nombre>>}\n",
    "```"
   ]
  },
  {
   "cell_type": "markdown",
   "metadata": {},
   "source": [
    "**Ejemplo:** \n",
    "\n",
    "* Las siguientes celdas definirán una serie de identificadores en *campos*, los cuales serán utilizados como el objeto iterable en el completado de objetos tipo *dict*. \n",
    "* En cada iteración se ejecutará la función *input()* y el texto ingresado será asociado al identificador correspondiente."
   ]
  },
  {
   "cell_type": "code",
   "execution_count": null,
   "metadata": {},
   "outputs": [],
   "source": [
    "campos = ('nombre', 'primer apellido', 'segundo apellido')"
   ]
  },
  {
   "cell_type": "code",
   "execution_count": null,
   "metadata": {},
   "outputs": [],
   "source": [
    "{campo: input('Ingrese {}: '.format(campo)) for campo in campos}"
   ]
  },
  {
   "cell_type": "markdown",
   "metadata": {},
   "source": [
    "<p style=\"text-align: center\"><a rel=\"license\" href=\"http://creativecommons.org/licenses/by/4.0/\"><img alt=\"Licencia Creative Commons\" style=\"border-width:0\" src=\"https://i.creativecommons.org/l/by/4.0/80x15.png\" /></a><br />Esta obra está bajo una <a rel=\"license\" href=\"http://creativecommons.org/licenses/by/4.0/\">Licencia Creative Commons Atribución 4.0 Internacional</a>.</p>\n",
    "<p style=\"text-align: center\">&copy; Alejandro Bolívar. 2020.</p>"
   ]
  }
 ],
 "metadata": {
  "kernelspec": {
   "display_name": "Python 3",
   "language": "python",
   "name": "python3"
  },
  "language_info": {
   "codemirror_mode": {
    "name": "ipython",
    "version": 3
   },
   "file_extension": ".py",
   "mimetype": "text/x-python",
   "name": "python",
   "nbconvert_exporter": "python",
   "pygments_lexer": "ipython3",
   "version": "3.6.7"
  },
  "toc": {
   "base_numbering": 1,
   "nav_menu": {},
   "number_sections": true,
   "sideBar": true,
   "skip_h1_title": false,
   "title_cell": "Table of Contents",
   "title_sidebar": "Contents",
   "toc_cell": false,
   "toc_position": {},
   "toc_section_display": true,
   "toc_window_display": false
  },
  "varInspector": {
   "cols": {
    "lenName": 16,
    "lenType": 16,
    "lenVar": 40
   },
   "kernels_config": {
    "python": {
     "delete_cmd_postfix": "",
     "delete_cmd_prefix": "del ",
     "library": "var_list.py",
     "varRefreshCmd": "print(var_dic_list())"
    },
    "r": {
     "delete_cmd_postfix": ") ",
     "delete_cmd_prefix": "rm(",
     "library": "var_list.r",
     "varRefreshCmd": "cat(var_dic_list()) "
    }
   },
   "types_to_exclude": [
    "module",
    "function",
    "builtin_function_or_method",
    "instance",
    "_Feature"
   ],
   "window_display": false
  }
 },
 "nbformat": 4,
 "nbformat_minor": 1
}
