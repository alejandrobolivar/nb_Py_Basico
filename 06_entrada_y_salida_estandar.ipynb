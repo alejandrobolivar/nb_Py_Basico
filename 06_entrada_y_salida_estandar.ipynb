{
 "cells": [
  {
   "cell_type": "markdown",
   "metadata": {},
   "source": [
    "[![imagenes](imagenes/BannerCB.png)](https://cursoscomputacion2.wixsite.com/python)"
   ]
  },
  {
   "cell_type": "markdown",
   "metadata": {},
   "source": [
    "En la actualidad existen muchas fuentes desde las que se puede obtener y desplegar la información que un sistema de cómputo consume, gestiona y genera. Sin embargo, para el intérprete de Python la salida por defecto (salida estándar) de datos es la terminal de texto y la entrada estándar es el teclado.\n",
    "\n",
    "En el caso de las notebooks de Jupyter, cada celda de código representa a la entrada estándar mediante:\n",
    "\n",
    "```In[ ]:```\n",
    "\n",
    "Y la salida estándar mediante:\n",
    "\n",
    "```Out[ ]:```"
   ]
  },
  {
   "cell_type": "markdown",
   "metadata": {},
   "source": [
    "## Salida estándar.\n",
    "\n",
    "La instrucción para desplegar información en la teminal de texto es _print_. En la versión 2 de Python, _print_ es una palabra reservada, mientras que en Python 3 _print()_ es una función, por lo que el contenido a desplegar siempre debe estar expresado como un parámetro dentro de la función, es decir, que debe estar entre paréntesis.\n",
    "\n",
    "* Cuando _print()_ incluye una expresión, ésta es evaluada antes de ser desplegada.\n",
    "* Del mismo modo, _print()_ puede desplegar varias expresiones separadas por comas."
   ]
  },
  {
   "cell_type": "markdown",
   "metadata": {},
   "source": [
    "### Ejemplos de _print()_ en Python 3"
   ]
  },
  {
   "cell_type": "code",
   "execution_count": 1,
   "metadata": {},
   "outputs": [],
   "source": [
    "a = 2"
   ]
  },
  {
   "cell_type": "code",
   "execution_count": 2,
   "metadata": {},
   "outputs": [
    {
     "name": "stdout",
     "output_type": "stream",
     "text": [
      "2\n"
     ]
    }
   ],
   "source": [
    "print(a)"
   ]
  },
  {
   "cell_type": "code",
   "execution_count": 3,
   "metadata": {},
   "outputs": [
    {
     "data": {
      "text/plain": [
       "4"
      ]
     },
     "execution_count": 3,
     "metadata": {},
     "output_type": "execute_result"
    }
   ],
   "source": [
    "2 + 2"
   ]
  },
  {
   "cell_type": "code",
   "execution_count": 4,
   "metadata": {},
   "outputs": [
    {
     "name": "stdout",
     "output_type": "stream",
     "text": [
      "Hola\n"
     ]
    }
   ],
   "source": [
    "print(\"Hola\")"
   ]
  },
  {
   "cell_type": "code",
   "execution_count": 5,
   "metadata": {},
   "outputs": [
    {
     "name": "stdout",
     "output_type": "stream",
     "text": [
      "Hola Mundo\n"
     ]
    }
   ],
   "source": [
    "print(\"Hola\", \"Mundo\")"
   ]
  },
  {
   "cell_type": "code",
   "execution_count": 6,
   "metadata": {},
   "outputs": [
    {
     "name": "stdout",
     "output_type": "stream",
     "text": [
      "HolaMundo\n"
     ]
    }
   ],
   "source": [
    "print(\"Hola\" + \"Mundo\")  # concatenación"
   ]
  },
  {
   "cell_type": "code",
   "execution_count": 7,
   "metadata": {},
   "outputs": [
    {
     "name": "stdout",
     "output_type": "stream",
     "text": [
      "Tienes 2 buenos amigos.\n"
     ]
    }
   ],
   "source": [
    "print(\"Tienes\", a, \"buenos amigos.\")"
   ]
  },
  {
   "cell_type": "code",
   "execution_count": 8,
   "metadata": {},
   "outputs": [
    {
     "ename": "TypeError",
     "evalue": "must be str, not int",
     "output_type": "error",
     "traceback": [
      "\u001b[1;31m---------------------------------------------------------------------------\u001b[0m",
      "\u001b[1;31mTypeError\u001b[0m                                 Traceback (most recent call last)",
      "\u001b[1;32m<ipython-input-8-e72a50cbaac8>\u001b[0m in \u001b[0;36m<module>\u001b[1;34m\u001b[0m\n\u001b[1;32m----> 1\u001b[1;33m \u001b[0mprint\u001b[0m\u001b[1;33m(\u001b[0m\u001b[1;34m\"Tienes\"\u001b[0m \u001b[1;33m+\u001b[0m \u001b[0ma\u001b[0m \u001b[1;33m+\u001b[0m \u001b[1;34m\"buenos amigos.\"\u001b[0m\u001b[1;33m)\u001b[0m\u001b[1;33m\u001b[0m\u001b[1;33m\u001b[0m\u001b[0m\n\u001b[0m",
      "\u001b[1;31mTypeError\u001b[0m: must be str, not int"
     ]
    }
   ],
   "source": [
    "print(\"Tienes\" + a + \"buenos amigos.\")"
   ]
  },
  {
   "cell_type": "markdown",
   "metadata": {},
   "source": [
    "Todas las funciones, incluyendo a _print()_, regresan un valor. El valor que print regresa es _None_, pero este valor no es desplegado por el intérprete."
   ]
  },
  {
   "cell_type": "code",
   "execution_count": 9,
   "metadata": {},
   "outputs": [
    {
     "name": "stdout",
     "output_type": "stream",
     "text": [
      "Hola\n"
     ]
    }
   ],
   "source": [
    "nulo = print(\"Hola\")"
   ]
  },
  {
   "cell_type": "code",
   "execution_count": 10,
   "metadata": {},
   "outputs": [],
   "source": [
    "nulo"
   ]
  },
  {
   "cell_type": "markdown",
   "metadata": {},
   "source": [
    "Sin embargo, la función *print()* sí puede desplegar el valor *None*."
   ]
  },
  {
   "cell_type": "code",
   "execution_count": 11,
   "metadata": {},
   "outputs": [
    {
     "name": "stdout",
     "output_type": "stream",
     "text": [
      "None\n"
     ]
    }
   ],
   "source": [
    "print(nulo)"
   ]
  },
  {
   "cell_type": "markdown",
   "metadata": {},
   "source": [
    "### Ejemplo de *print* en Python 2\n",
    "\n",
    "``` python\n",
    ">>> a = 2\n",
    ">>> print a\n",
    "2\n",
    ">>> print \"Hola\"\n",
    "Hola\n",
    ">>> print \"Hola\", \"Mundo\"\n",
    "Hola Mundo\n",
    ">>> print \"Hola\" + \"Mundo\"\n",
    "HolaMundo\n",
    ">>> print \"Tienes\", a, \"buenos amigos.\"\n",
    "Tienes 2 buenos amigos.\n",
    ">>> print \"Tienes\" +  a + \"buenos amigos.\"\n",
    "Traceback (most recent call last):\n",
    "  File \"<stdin>\", line 1, in <module>\n",
    "TypeError: cannot concatenate 'str' and 'int' objects\n",
    ">>> \n",
    "```\n",
    "### _print_ y _print()_ en Python 2.7\n",
    "\n",
    "Python 2.7 es una versión de transición, por lo que acepta ambas sintaxis.\n",
    "\n",
    "**Ejemplo:**\n",
    "\n",
    "``` python\n",
    ">>> print \"Hola\"\n",
    "Hola\n",
    ">>> print(\"Hola\")\n",
    "Hola\n",
    ">>>\n",
    "```"
   ]
  },
  {
   "cell_type": "markdown",
   "metadata": {},
   "source": [
    "### Despliegue con formato.\n",
    "\n",
    "Para intercalar valores dentro de un formato específico de texto se utiliza el carácter sobre-escritura (_%_) seguido  de uno de los siguientes caracteres.\n",
    "\n",
    "|Caracter de escape|Modo de despliegue|\n",
    "|:----------------:|:----------------:|\n",
    "|*s*|\tcadena de texto|\n",
    "|*d*|\t entero|\n",
    "|*o*|\t octal|\n",
    "|*x*|\t hexadecimal|\n",
    "|*f*|\t punto flotante|\n",
    "|*e*|\t punto flotante en formato exponencial|    \n",
    "\n",
    "El uso de *%s*, equivale a aplicar la función _str()_ al valor a desplegar.\n",
    "\n",
    "Después del texto, se añade otro signo (*%*) y las expresiones o nombres correspondientes entre paréntesis y separados por comas. Si sólo es una expresión o nombre, no es necesario utilizar el paréntesis.\n",
    "\n",
    "__Ejemplo:__\n"
   ]
  },
  {
   "cell_type": "code",
   "execution_count": 12,
   "metadata": {},
   "outputs": [
    {
     "name": "stdout",
     "output_type": "stream",
     "text": [
      "      Hola mundo\n",
      "Hola       mundo\n",
      "hola\n"
     ]
    }
   ],
   "source": [
    "print('%10s mundo' % 'Hola')\n",
    "print('%-10s mundo' % 'Hola')\n",
    "print('%.4s' % 'hola mundo')"
   ]
  },
  {
   "cell_type": "code",
   "execution_count": 13,
   "metadata": {},
   "outputs": [],
   "source": [
    "pi = 3.141592\n",
    "radio = 2"
   ]
  },
  {
   "cell_type": "code",
   "execution_count": 14,
   "metadata": {},
   "outputs": [
    {
     "name": "stdout",
     "output_type": "stream",
     "text": [
      "El perímetro de un circulo de radio 2 es 12.566368.\n"
     ]
    }
   ],
   "source": [
    "print(\"El perímetro de un circulo de radio %d es %f.\" % (radio, 2 * radio * pi))"
   ]
  },
  {
   "cell_type": "code",
   "execution_count": 15,
   "metadata": {},
   "outputs": [
    {
     "name": "stdout",
     "output_type": "stream",
     "text": [
      "El perímetro de un circulo de radio 2 es 12.\n"
     ]
    }
   ],
   "source": [
    "print(\"El perímetro de un circulo de radio %d es %d.\" % (radio, 2 * radio * pi))"
   ]
  },
  {
   "cell_type": "code",
   "execution_count": 16,
   "metadata": {},
   "outputs": [
    {
     "name": "stdout",
     "output_type": "stream",
     "text": [
      "El perímetro de un circulo de radio 2 es 12.566368.\n"
     ]
    }
   ],
   "source": [
    "print(\"El perímetro de un circulo de radio %s es %s.\" % (radio, 2 * radio * pi))"
   ]
  },
  {
   "cell_type": "code",
   "execution_count": 17,
   "metadata": {},
   "outputs": [
    {
     "name": "stdout",
     "output_type": "stream",
     "text": [
      "El valor de pi es 3.141592.\n"
     ]
    }
   ],
   "source": [
    "print(\"El valor de pi es %f.\" % (pi))"
   ]
  },
  {
   "cell_type": "code",
   "execution_count": 18,
   "metadata": {},
   "outputs": [
    {
     "name": "stdout",
     "output_type": "stream",
     "text": [
      "El valor de pi es 3.141592e+00.\n"
     ]
    }
   ],
   "source": [
    "print(\"El valor de pi es %e.\" % pi)"
   ]
  },
  {
   "cell_type": "markdown",
   "metadata": {},
   "source": [
    "Para desplegar el signo de porcentaje \"*%*\" se utiliza *%%*.\n",
    "\n",
    "__Ejemplo:__"
   ]
  },
  {
   "cell_type": "code",
   "execution_count": 19,
   "metadata": {},
   "outputs": [
    {
     "name": "stdout",
     "output_type": "stream",
     "text": [
      "El 15% de 13.000000 es 1.950000.\n"
     ]
    }
   ],
   "source": [
    "valor = 13\n",
    "porciento = 15\n",
    "porcentaje = (valor * porciento) / 100\n",
    "print(\"El %d%% de %f es %f.\" % (porciento, valor, porcentaje))"
   ]
  },
  {
   "cell_type": "markdown",
   "metadata": {},
   "source": [
    "#### Despliegue de cifras significativas.\n",
    "\n",
    "Para desplegar un número específico de cifras significativas de un valor de punto flotante, se añade un punto (.) y el número de cifras a desplegarse después del signo (*%*) y antes del carácter *f* o *e*.\n",
    "\n",
    "__Ejemplo:__"
   ]
  },
  {
   "cell_type": "code",
   "execution_count": 20,
   "metadata": {},
   "outputs": [
    {
     "name": "stdout",
     "output_type": "stream",
     "text": [
      "El perímetro de un círculo de radio igual a 2 es 12.566771.\n",
      "El perímetro de un círculo de radio igual a 2 es 12.57.\n"
     ]
    }
   ],
   "source": [
    "pi = 3.14169265\n",
    "radio = 2\n",
    "print(\"El perímetro de un círculo de radio igual a %d es %f.\" % (radio, 2 * pi * radio))\n",
    "print(\"El perímetro de un círculo de radio igual a %d es %.2f.\" % (radio, 2 * pi * radio))"
   ]
  },
  {
   "cell_type": "markdown",
   "metadata": {},
   "source": [
    "### Caracteres de escape.\n",
    "\n",
    "Existen algunos caracteres que por su función o por la sintaxis de Python -tales como los apóstrofes, las comillas, los retornos de línea, etc.- que deben utilizar un \"caracter de escape\", para que puedan ser desplegados. Los caracteres de escape pueden ser introducidos después de una diagonal invertida ( \\\\).\n",
    "\n",
    "|Secuencia|Despliegue|\n",
    "|:-------:|:--------:|\n",
    "|*\\\\n*    |Retorno de línea|\n",
    "|*\\\\t*    |Tabulador |\n",
    "|*\\\\\"*    |Comillas  |\n",
    "|*\\\\'*    |Apóstrofe |\n",
    "|*\\\\\\\\*   |Diagonal invertida|\n",
    "|*\\\\xNN*  |Caracter que corresponde al número hexadecimal *NN* en ASCII|\n",
    "|*\\\\uNN*  |Caracter que corresponde al número hexadecimal *NN* en Unicode|\n",
    "\n",
    "**Ejemplo:**"
   ]
  },
  {
   "cell_type": "code",
   "execution_count": 21,
   "metadata": {},
   "outputs": [
    {
     "name": "stdout",
     "output_type": "stream",
     "text": [
      "Primera línea.\n",
      "Segunda línea\t con tabulador.\n"
     ]
    }
   ],
   "source": [
    "print(\"Primera línea.\\nSegunda línea\\t con tabulador.\")"
   ]
  },
  {
   "cell_type": "code",
   "execution_count": 22,
   "metadata": {},
   "outputs": [
    {
     "name": "stdout",
     "output_type": "stream",
     "text": [
      "Este es el signo de \"gato\" #.\n"
     ]
    }
   ],
   "source": [
    "print(\"Este es el signo de \\\"gato\\\" \\x23.\")"
   ]
  },
  {
   "cell_type": "code",
   "execution_count": 23,
   "metadata": {},
   "outputs": [
    {
     "name": "stdout",
     "output_type": "stream",
     "text": [
      "Beta: ß\n"
     ]
    }
   ],
   "source": [
    "print(\"Beta: \\u00DF\")"
   ]
  },
  {
   "cell_type": "markdown",
   "metadata": {},
   "source": [
    "### Impresión con separador\n",
    "\n",
    "En Python 3, la impresión es algo más flexible, escribiendo un número indefinido de parámetros de distinto tipo, separados por comas; print() los une con un espacio o con la cadena indicada en el parámetro opcional sep.\n",
    "\n",
    "**Ejemplo:**"
   ]
  },
  {
   "cell_type": "code",
   "execution_count": 24,
   "metadata": {},
   "outputs": [
    {
     "name": "stdout",
     "output_type": "stream",
     "text": [
      "10;  elevado al cuadrado es; 100\n"
     ]
    }
   ],
   "source": [
    "a, b = 10, 10**2 # Definimos dos números, a=10 y b=10**2\n",
    "print(a, \" elevado al cuadrado es\", b, sep=\"; \")"
   ]
  },
  {
   "cell_type": "markdown",
   "metadata": {},
   "source": [
    "### format (nuevo formato)\n",
    "\n",
    "Además de esta sintaxis clásica, Python tiene un cuasi-lenguaje propio similar para dar formato a las cadenas usando el método format(). Este sistema es menos conocido es más flexible y potente.\n",
    "\n",
    "**Ejempo:**"
   ]
  },
  {
   "cell_type": "code",
   "execution_count": 26,
   "metadata": {},
   "outputs": [
    {
     "name": "stdout",
     "output_type": "stream",
     "text": [
      "3.14\n"
     ]
    }
   ],
   "source": [
    "print(\"{:.2f}\".format(3.1415926))\n",
    "frase2 = \"A hombros de {}\".format(\"gigantes\")\n",
    "frase3 = \" {0} es mejor que {1} \".format(\"Python\", \"IDL\")\n",
    "resultado = \"El {operacion} de {numero} es {resultado}\".format(operacion=\"cubo\", numero=7, resultado=7**3)"
   ]
  },
  {
   "cell_type": "markdown",
   "metadata": {},
   "source": [
    "## Entrada estándar con _input()_. \n",
    "\n",
    "La función por defecto de entrada estándar para Python 3 es _input()_. En el caso de Python 2, la función es *raw\\_input()*. En cada caso, la función opera de forma idéntica.\n",
    "\n",
    "La función _input()_ captura los caracteres provenientes de entrada estándar (el teclado) hasta que se introduce un retorno de carro **&lt;Intro&gt;** y el contenido capturado es devuelto al intérprete como una cadena de texto. \n",
    "\n",
    "La cadena de caracteres resultante puede ser almacenada como un objeto de tipo _str_ mediante la asignación de un nombre.\n",
    "\n",
    "La función permite desplegar un mensaje de tipo _str_ como parámetro.\n",
    "\n",
    "### La función *input()* . \n",
    "\n",
    "La sintaxis es la siguiente para Python 3:\n",
    "\n",
    "``` \n",
    "input(<objeto tipo str>)\n",
    "```\n",
    "\n",
    "**Ejemplos:**"
   ]
  },
  {
   "cell_type": "code",
   "execution_count": 27,
   "metadata": {},
   "outputs": [
    {
     "name": "stdout",
     "output_type": "stream",
     "text": [
      "sjdfjdf\n"
     ]
    },
    {
     "data": {
      "text/plain": [
       "'sjdfjdf'"
      ]
     },
     "execution_count": 27,
     "metadata": {},
     "output_type": "execute_result"
    }
   ],
   "source": [
    "input()"
   ]
  },
  {
   "cell_type": "code",
   "execution_count": 28,
   "metadata": {},
   "outputs": [
    {
     "name": "stdout",
     "output_type": "stream",
     "text": [
      "hskdhf\n"
     ]
    }
   ],
   "source": [
    "texto = input()"
   ]
  },
  {
   "cell_type": "code",
   "execution_count": 29,
   "metadata": {},
   "outputs": [
    {
     "data": {
      "text/plain": [
       "str"
      ]
     },
     "execution_count": 29,
     "metadata": {},
     "output_type": "execute_result"
    }
   ],
   "source": [
    "type(texto)"
   ]
  },
  {
   "cell_type": "code",
   "execution_count": 30,
   "metadata": {},
   "outputs": [
    {
     "data": {
      "text/plain": [
       "'hskdhf'"
      ]
     },
     "execution_count": 30,
     "metadata": {},
     "output_type": "execute_result"
    }
   ],
   "source": [
    "texto"
   ]
  },
  {
   "cell_type": "code",
   "execution_count": 31,
   "metadata": {},
   "outputs": [
    {
     "name": "stdout",
     "output_type": "stream",
     "text": [
      "hskdhf\n"
     ]
    }
   ],
   "source": [
    "print(texto)"
   ]
  },
  {
   "cell_type": "code",
   "execution_count": 32,
   "metadata": {},
   "outputs": [
    {
     "name": "stdout",
     "output_type": "stream",
     "text": [
      "Escribe un nombre: Juan\n",
      "Juan\n"
     ]
    }
   ],
   "source": [
    "nombre = input(\"Escribe un nombre: \")\n",
    "print(nombre)"
   ]
  },
  {
   "cell_type": "markdown",
   "metadata": {},
   "source": [
    "\n",
    "### La función *raw_input()* en Python 2.\n",
    "\n",
    "La sintaxis es la siguiente para Python 2:\n",
    "\n",
    "``` \n",
    "raw_input(<objeto tipo str>)\n",
    "```\n",
    "\n",
    "**Ejemplo:**\n",
    "\n",
    "``` python\n",
    ">>> raw_input()\n",
    "Hola\n",
    "'Hola'\n",
    ">>> texto = raw_input()\n",
    "Hola\n",
    ">>> type(texto)\n",
    "<type 'str'>\n",
    ">>> print texto\n",
    "Hola\n",
    ">>> nombre = raw_input(\"Escribe un nombre: \")\n",
    "Escribe un nombre: Juan\n",
    ">>> print nombre\n",
    "Juan\n",
    ">>> \n",
    "```\n",
    "### La función _input()_ en Python 2.\n",
    "\n",
    "Además de *raw_input()*, Python 2 cuenta con la función _input()_, la cual es semejante a ejecutar *eval(raw_input())*.\n",
    "\n",
    "Si la expresión ingresada es correcta, La función _input()_ puede regresar valores de diversos tipos, en vez de sólo cadenas de texto.\n",
    "\n",
    "**Ejemplo:**\n",
    "\n",
    "``` python\n",
    ">>> mensaje = \"Ingresa el texto: \"\n",
    ">>> valor = raw_input(mensaje)\n",
    "Ingresa el texto: 35 + 21\n",
    ">>> type(valor)\n",
    "<type 'str'>\n",
    ">>> print valor\n",
    "35 + 21\n",
    ">>> valor = input(mensaje)\n",
    "Ingresa el texto: 35 + 21\n",
    ">>> type(valor)\n",
    "<type 'int'>\n",
    ">>> print valor\n",
    "56\n",
    ">>> valor = input(mensaje)\n",
    "Ingresa el texto: \"Hola\"\n",
    ">>> type(valor)\n",
    "<type 'str'>\n",
    ">>> print valor\n",
    "Hola\n",
    ">>> valor = input(mensaje)\n",
    "Ingresa el texto: Hola\n",
    "Traceback (most recent call last):\n",
    "  File \"<stdin>\", line 1, in <module>\n",
    "  File \"<string>\", line 1, in <module>\n",
    "NameError: name 'Hola' is not defined\n",
    ">>>\n",
    "```\n",
    "**NOTA:** La función _input()_, tal como se usa en Python 2 tiene el potencial de generar diversos errores y es susceptible de vulnerabilidades de seguridad debido a que podría usarse para inyectar código malicioso. Es por eso por lo que en Python 3, _input()_ se comporta como *raw_input()* y la función *raw_input()* fue desechada."
   ]
  },
  {
   "cell_type": "markdown",
   "metadata": {},
   "source": [
    "### Ejemplo de Lectura de Datos"
   ]
  },
  {
   "cell_type": "code",
   "execution_count": 33,
   "metadata": {},
   "outputs": [
    {
     "name": "stdout",
     "output_type": "stream",
     "text": [
      "Introduzca el nombre: José\n",
      "Introduzca el apellido, José: Pérez\n",
      "Me alegro de conocerle, José Pérez\n"
     ]
    }
   ],
   "source": [
    "# Para incluir la pregunta en la solicitud de la respuesta,\n",
    "# se utiliza la concatenación (operador +):\n",
    "nombre = input('Introduzca el nombre: ')\n",
    "apellido = input('Introduzca el apellido, ' + nombre +  ': ')\n",
    "print('Me alegro de conocerle,', nombre, apellido)"
   ]
  },
  {
   "cell_type": "code",
   "execution_count": 34,
   "metadata": {},
   "outputs": [
    {
     "name": "stdout",
     "output_type": "stream",
     "text": [
      "Introduzca el nombre: Juan\n",
      "Introduzca el apellido, Juan: Tovar\n",
      "Me alegro de conocerle, Juan Tovar\n"
     ]
    }
   ],
   "source": [
    "# Otra solución es utilizar las cadenas \"f\" introducidas en Python 3.6:\n",
    "nombre = input('Introduzca el nombre: ')\n",
    "apellido = input(f'Introduzca el apellido, {nombre}: ')\n",
    "print(f'Me alegro de conocerle, {nombre} {apellido}')"
   ]
  },
  {
   "cell_type": "code",
   "execution_count": 35,
   "metadata": {},
   "outputs": [
    {
     "name": "stdout",
     "output_type": "stream",
     "text": [
      "Introduzca un número: 15\n",
      "Introduzca un número mayor que 15: 20\n",
      "La diferencia entre ellos es 5\n"
     ]
    }
   ],
   "source": [
    "# Otro ejemplo:\n",
    "numero1 = int(input('Introduzca un número: '))\n",
    "numero2 = int(input(f'Introduzca un número mayor que {numero1}: '))\n",
    "print(f'La diferencia entre ellos es {numero2 - numero1}')"
   ]
  },
  {
   "cell_type": "markdown",
   "metadata": {},
   "source": [
    "<p style=\"text-align: center\"><a rel=\"license\" href=\"http://creativecommons.org/licenses/by/4.0/\"><img alt=\"Licencia Creative Commons\" style=\"border-width:0\" src=\"https://i.creativecommons.org/l/by/4.0/80x15.png\" /></a><br />Esta obra está bajo una <a rel=\"license\" href=\"http://creativecommons.org/licenses/by/4.0/\">Licencia Creative Commons Atribución 4.0 Internacional</a>.</p>\n",
    "<p style=\"text-align: center\">&copy; Alejandro Bolívar. 2020.</p>"
   ]
  }
 ],
 "metadata": {
  "kernelspec": {
   "display_name": "Python 3",
   "language": "python",
   "name": "python3"
  },
  "language_info": {
   "codemirror_mode": {
    "name": "ipython",
    "version": 3
   },
   "file_extension": ".py",
   "mimetype": "text/x-python",
   "name": "python",
   "nbconvert_exporter": "python",
   "pygments_lexer": "ipython3",
   "version": "3.6.7"
  },
  "toc": {
   "base_numbering": 1,
   "nav_menu": {},
   "number_sections": true,
   "sideBar": true,
   "skip_h1_title": false,
   "title_cell": "Table of Contents",
   "title_sidebar": "Contents",
   "toc_cell": false,
   "toc_position": {
    "height": "calc(100% - 180px)",
    "left": "10px",
    "top": "150px",
    "width": "297px"
   },
   "toc_section_display": true,
   "toc_window_display": true
  },
  "varInspector": {
   "cols": {
    "lenName": 16,
    "lenType": 16,
    "lenVar": 40
   },
   "kernels_config": {
    "python": {
     "delete_cmd_postfix": "",
     "delete_cmd_prefix": "del ",
     "library": "var_list.py",
     "varRefreshCmd": "print(var_dic_list())"
    },
    "r": {
     "delete_cmd_postfix": ") ",
     "delete_cmd_prefix": "rm(",
     "library": "var_list.r",
     "varRefreshCmd": "cat(var_dic_list()) "
    }
   },
   "types_to_exclude": [
    "module",
    "function",
    "builtin_function_or_method",
    "instance",
    "_Feature"
   ],
   "window_display": false
  }
 },
 "nbformat": 4,
 "nbformat_minor": 1
}
