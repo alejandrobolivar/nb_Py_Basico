{
 "cells": [
  {
   "cell_type": "markdown",
   "metadata": {},
   "source": [
    "[![imagenes](imagenes/BannerCB.png)](https://cursoscomputacion2.wixsite.com/python)"
   ]
  },
  {
   "cell_type": "markdown",
   "metadata": {},
   "source": [
    "\n",
    "## Iteraciones con _for_... _in_.\n",
    "\n",
    "\n",
    "### Objetos iterables.\n",
    "\n",
    "Una de las grandes fortalezas de Python es su capacidad de realizar iteraciones de forma dinámica a partir de diversos tipos de objetos con la capacidad de ser iterables.\n",
    "\n",
    "Algunos de estos objetos son los de tipo:\n",
    "\n",
    "* _str_.\n",
    "* _list_.\n",
    "* _tuple_.\n",
    "* _dict_.\n",
    "* _set_.\n",
    "* _frozenset_.\n",
    "* _bytes_.\n",
    "\n",
    "Las iteraciones para cada uno de los tipos enunciados se estudiarán y analizarán caso por caso en secciones próximas.\n",
    "\n",
    "### La estructura *for* ... *in*.\n",
    "\n",
    "Para iterar un objeto iterable se utiliza la siguiente sintaxis:\n",
    "\n",
    "```\n",
    "for <contador> in <objeto iterable>:\n",
    "```\n",
    "\n",
    "**Ejemplo:**"
   ]
  },
  {
   "cell_type": "code",
   "execution_count": null,
   "metadata": {},
   "outputs": [],
   "source": [
    "for i in [0, 1, 2, 3, 4]:\n",
    "    print(i) "
   ]
  },
  {
   "cell_type": "markdown",
   "metadata": {},
   "source": [
    "### Iteraciones incrementales/decrementales.\n",
    "\n",
    "La forma más común de realizar iteraciones en otros lenguajes de programación es por medio algo similar al uso de la función *range().*\n",
    "\n",
    "### La función *range()*\n",
    "\n",
    "Para definir rangos numéricos se usa la función *range()*.\n",
    "\n",
    "* *range(*n, m, s*)* cumple:  rango >= n and rango < m en incrementos de s.\n",
    "* *range(*n, m*)* cumple:  rango >= n and rango < m en incrementos de 1.\n",
    "* *range(*m*)* cumple:  rango >= 0 and rango < m en incrementos de 1.\n",
    "\n",
    "**Ejemplos:**"
   ]
  },
  {
   "cell_type": "code",
   "execution_count": null,
   "metadata": {},
   "outputs": [],
   "source": [
    "\"\"\" Cuenta del 0 hasta menos de 8 en incrementos de a 1.\"\"\"\n",
    "for contador in range(8):\n",
    "    print(contador)\n",
    "print()\n"
   ]
  },
  {
   "cell_type": "code",
   "execution_count": null,
   "metadata": {},
   "outputs": [],
   "source": [
    "\"\"\" Cuenta del 5 hasta menos de 9 en incrementos de a 1. \"\"\"\n",
    "for contador in range(5, 9):\n",
    "    print(contador)\n",
    "print()"
   ]
  },
  {
   "cell_type": "code",
   "execution_count": null,
   "metadata": {},
   "outputs": [],
   "source": [
    "\"\"\" Cuenta de 3 hasta menos de 11 en incrementos de a 2. \"\"\"\n",
    "for contador in range(3, 11, 2):\n",
    "    print(contador)\n",
    "print()"
   ]
  },
  {
   "cell_type": "code",
   "execution_count": null,
   "metadata": {},
   "outputs": [],
   "source": [
    "\"\"\" Cuenta del 26 hasta más de 10 en decrementos de a 4. \"\"\"\n",
    "for contador in range(26, 10, -4):\n",
    "    print(contador)"
   ]
  },
  {
   "cell_type": "markdown",
   "metadata": {},
   "source": [
    "### Iteraciones con *for* ...  *in* para objetos tipo *list* y *tuple*.\n",
    "\n",
    "Los objetos tipo _list_ y _tuple_ son objetos iterables, por lo que _for_ puede ser utilizado dependiendo del contexto.\n",
    "\n",
    "#### Iteración con  _for_ para objetos tipo _list_ y un nombre."
   ]
  },
  {
   "cell_type": "code",
   "execution_count": null,
   "metadata": {},
   "outputs": [],
   "source": [
    "for gato in [\"Cucho\", \"Espanto\", \"Panza\", \"Demóstenes\", \"Benito\"]:\n",
    "    print(gato)"
   ]
  },
  {
   "cell_type": "markdown",
   "metadata": {},
   "source": [
    "#### Iteración con  _for_ para objetos _list_ y _tuple_ que contienen objetos iterables.\n",
    "\n",
    "Suponiendo que se tuviera un objeto tipo _list_ o _tuple_, cuyos elementos también sean objetos iterables y que todos ellos sean del mismo tamaño, es posible asignar un nombre por cada elemento contenido dentro los iterables que su vez están contenidos en el objeto _list_ o _tuple_:\n",
    "\n",
    "**Ejemplo:**"
   ]
  },
  {
   "cell_type": "code",
   "execution_count": null,
   "metadata": {},
   "outputs": [],
   "source": [
    "vehiculos = (('automóvil', 50, 'gasolina'),\n",
    "             ('autobús', 300, 'diesel'),\n",
    "             ('helicóptero', 2000, 'turbodiesel'),\n",
    "             ('velero', 0, 'N/A'))"
   ]
  },
  {
   "cell_type": "code",
   "execution_count": null,
   "metadata": {},
   "outputs": [],
   "source": [
    "for vehiculo in vehiculos:\n",
    "    print(len(vehiculo))"
   ]
  },
  {
   "cell_type": "code",
   "execution_count": null,
   "metadata": {},
   "outputs": [],
   "source": [
    "tipos, capacidades, combustibles = [], [], []"
   ]
  },
  {
   "cell_type": "markdown",
   "metadata": {},
   "source": [
    "La siguiente declaración con for asignará a cada nombre un elemento dentro de cada objeto tuple que a su vez está contenido en el objeto tuple llamado vehiculos."
   ]
  },
  {
   "cell_type": "code",
   "execution_count": null,
   "metadata": {},
   "outputs": [],
   "source": [
    "for tipo, capacidad, combustible in vehiculos:\n",
    "    tipos.append(tipo)\n",
    "    capacidades.append(capacidad)\n",
    "    combustibles.append(combustible)"
   ]
  },
  {
   "cell_type": "code",
   "execution_count": null,
   "metadata": {},
   "outputs": [],
   "source": [
    "capacidades"
   ]
  },
  {
   "cell_type": "code",
   "execution_count": null,
   "metadata": {},
   "outputs": [],
   "source": [
    "combustibles"
   ]
  },
  {
   "cell_type": "code",
   "execution_count": null,
   "metadata": {},
   "outputs": [],
   "source": [
    "tipos"
   ]
  },
  {
   "cell_type": "markdown",
   "metadata": {},
   "source": [
    "### for - enumerate\n",
    "\n",
    "Si desea recorrer los elementos de una lista y también tener un índice para los elementos, puede usar la función de enumerate de Python, *enumerate* generará tuplas, que se desempaquetan en índice (un número entero) y elemento (el valor real de la lista).\n",
    "\n",
    "**Ejemplo:**"
   ]
  },
  {
   "cell_type": "code",
   "execution_count": null,
   "metadata": {},
   "outputs": [],
   "source": [
    "for index, item in enumerate(['one', 'two', 'three', 'four']):\n",
    "    print(index, '::', item)"
   ]
  },
  {
   "cell_type": "markdown",
   "metadata": {},
   "source": [
    "### Iterando sobre las claves de diccionarios.\n",
    "\n",
    "Considere el siguiente diccionario: \n",
    "```\n",
    "d = {\"a\": 1, \"b\": 2, \"c\": 3}\n",
    "```\n",
    "Para iterar a través de sus claves, puede utilizar:\n",
    "```\n",
    "for key in d:\n",
    "    print(key)\n",
    "```\n",
    "Esto es equivalente a:\n",
    "```\n",
    "for key in d.keys():\n",
    "    print(key)\n",
    "```\n",
    "O en Python 2:\n",
    "```\n",
    "for key in d.iterkeys():\n",
    "    print(key)\n",
    "```\n",
    "\n"
   ]
  },
  {
   "cell_type": "code",
   "execution_count": null,
   "metadata": {},
   "outputs": [],
   "source": [
    "persona = {\"nombre\": \"Juan\", \"primer_apellido\":\"Pérez\", \"segundo_apellido\":\"Sánchez\"}"
   ]
  },
  {
   "cell_type": "code",
   "execution_count": null,
   "metadata": {},
   "outputs": [],
   "source": [
    "for elemento in persona:\n",
    "    print(elemento)"
   ]
  },
  {
   "cell_type": "markdown",
   "metadata": {},
   "source": [
    "### Iterando sobre los valores de diccionarios.\n",
    "\n",
    "Para iterar sobre sus valores, utilice:\n",
    "```\n",
    "for value in d.values():\n",
    "    print(value)\n",
    "```\n",
    "\n",
    "### Iterando sobre las claves y los valores de diccionarios.\n",
    "\n",
    "Para iterar sobre sus claves y valores, utilice:\n",
    "```\n",
    "for key, value in d.items():\n",
    "    print(key, \"::\", value)\n",
    "```\n",
    "**Nota:** Tenga en cuenta que en Python 3, el orden de los elementos impresos de la manera anterior no sigue ningún orden.\n",
    "\n",
    "### Iterando y desempaquetando.\n",
    "\n",
    "Si quieres recorrer una lista de tuplas por ejemplo:\n",
    "\n",
    "collection = [('a', 'b', 'c'), ('x', 'y', 'z'), ('1', '2', '3')] \u000b",
    "\n",
    "En lugar de hacer algo como esto:\n",
    "```\n",
    "for item in collection:\n",
    "    i1 = item[0]\n",
    "    i2 = item[1]\n",
    "    i3 = item[2]\t\n",
    "    # logic\n",
    "```\n",
    "o algo como esto:\n",
    "```\n",
    "for item in collection: \n",
    "\ti1, i2, i3 = item\t\n",
    "    # logic\n",
    "```\n",
    "Simplemente puede hacer esto:\n",
    "\n",
    "```\n",
    "for i1, i2, i3 in collection:\n",
    "    # logic\n",
    "```\n",
    "\n",
    "Esto también funcionará para la mayoría de los tipos de iterables, no solo para tuplas."
   ]
  },
  {
   "cell_type": "markdown",
   "metadata": {},
   "source": [
    "<p style=\"text-align: center\"><a rel=\"license\" href=\"http://creativecommons.org/licenses/by/4.0/\"><img alt=\"Licencia Creative Commons\" style=\"border-width:0\" src=\"https://i.creativecommons.org/l/by/4.0/80x15.png\" /></a><br />Esta obra está bajo una <a rel=\"license\" href=\"http://creativecommons.org/licenses/by/4.0/\">Licencia Creative Commons Atribución 4.0 Internacional</a>.</p>\n",
    "<p style=\"text-align: center\">&copy; Alejandro Bolívar. 2020.</p>"
   ]
  }
 ],
 "metadata": {
  "kernelspec": {
   "display_name": "Python 3",
   "language": "python",
   "name": "python3"
  },
  "language_info": {
   "codemirror_mode": {
    "name": "ipython",
    "version": 3
   },
   "file_extension": ".py",
   "mimetype": "text/x-python",
   "name": "python",
   "nbconvert_exporter": "python",
   "pygments_lexer": "ipython3",
   "version": "3.6.7"
  },
  "toc": {
   "base_numbering": 1,
   "nav_menu": {},
   "number_sections": true,
   "sideBar": true,
   "skip_h1_title": false,
   "title_cell": "Table of Contents",
   "title_sidebar": "Contents",
   "toc_cell": false,
   "toc_position": {
    "height": "calc(100% - 180px)",
    "left": "10px",
    "top": "150px",
    "width": "288px"
   },
   "toc_section_display": true,
   "toc_window_display": true
  },
  "varInspector": {
   "cols": {
    "lenName": 16,
    "lenType": 16,
    "lenVar": 40
   },
   "kernels_config": {
    "python": {
     "delete_cmd_postfix": "",
     "delete_cmd_prefix": "del ",
     "library": "var_list.py",
     "varRefreshCmd": "print(var_dic_list())"
    },
    "r": {
     "delete_cmd_postfix": ") ",
     "delete_cmd_prefix": "rm(",
     "library": "var_list.r",
     "varRefreshCmd": "cat(var_dic_list()) "
    }
   },
   "types_to_exclude": [
    "module",
    "function",
    "builtin_function_or_method",
    "instance",
    "_Feature"
   ],
   "window_display": false
  }
 },
 "nbformat": 4,
 "nbformat_minor": 1
}
