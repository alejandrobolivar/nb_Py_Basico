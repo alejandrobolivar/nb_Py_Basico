{
 "cells": [
  {
   "cell_type": "markdown",
   "metadata": {},
   "source": [
    "[![imagenes](imagenes/BannerCB.png)](https://cursoscomputacion2.wixsite.com/python)"
   ]
  },
  {
   "cell_type": "markdown",
   "metadata": {},
   "source": [
    "# Temario del Curso Básico de Programación en Python\n",
    "\n",
    "<a href=\"01_introduccion.ipynb\">01 Introducción al lenguaje Python.</a><br />\n",
    "<a href=\"02_palabras_reservadas_y_nombres.ipynb\">02 Palabras reservadas y espacio de nombres.</a><br />\n",
    "<a href=\"03_expresiones_y_declaraciones.ipynb\">03 Expresiones y declaraciones.</a><br />\n",
    "<a href=\"04_tipos_y_operadores.ipynb\">04 Tipos y operadores.</a><br />\n",
    "<a href=\"05_entrada_y_salida_estandar.ipynb\">05 Entrada y salida estándar.</a><br />\n",
    "<a href=\"06_bloques_comentarios_condicionales_ciclos.ipynb\">06 Bloques, comentarios, condicionales y ciclos.</a><br />\n",
    "<a href=\"07_tipos_list_y_tuple.ipynb\">07 Objetos tipo list y tipo tuple.</a><br />\n",
    "<a href=\"08_tipo_dict.ipynb\">08 Objetos tipo _dict_.</a><br />\n",
    "<a href=\"09_tipo_str_y_bytes.ipynb\">09 Tipo str y bytes.</a><br />\n",
    "<a href=\"10_tipos_set_y_frozenset.ipynb\">10 Objetos tipo _set_ y _frozenset_.</a><br />\n",
    "<a href=\"11_iteraciones_for_in_enumerate.ipynb\">11 Ciclos, iteraciones e interrupciones de ejecución.</a><br />\n",
    "<a href=\"12_comprensión_de_listas.ipynb\">12 Comprensión de listas.</a><br />\n",
    "<a href=\"13_gestion_de_excepciones.ipynb\">13 Gestión de excepciones.</a><br />\n",
    "<a href=\"14_funciones.ipynb\">14 Funciones.</a><br />\n",
    "<a href=\"15_completado_de_elementos.ipynb\">15 Completado de elementos.</a><br />\n",
    "<a href=\"16_Iteradores_generadores.ipynb\">16 Iteradores y generadores.</a><br />\n",
    "<a href=\"17_modulos_paquetes.ipynb\">17 Módulos y paquetes.</a><br />\n",
    "<a href=\"18_gestion_de_paquetes_con_pip.ipynb\">18 Gestión de módulos y paquetes con pip.</a><br />\n",
    "<a href=\"19_creacion_de_paquetes.ipynb\">19 Creación de paquetes con setuptools.</a><br />\n",
    "<a href=\"20_entornos_virtuales.ipynb\">20 Entornos virtuales.</a><br />"
   ]
  },
  {
   "cell_type": "markdown",
   "metadata": {
    "collapsed": true
   },
   "source": [
    "<a rel=\"license\" href=\"http://creativecommons.org/licenses/by-nc-sa/4.0/\"><img alt=\"Licencia de Creative Commons\" style=\"border-width:0\" src=\"https://i.creativecommons.org/l/by-nc-sa/4.0/88x31.png\" /></a><br /><span xmlns:dct=\"http://purl.org/dc/terms/\" property=\"dct:title\">Temario del Curso Básico de Programación en Python</span> by <span xmlns:cc=\"http://creativecommons.org/ns#\" property=\"cc:attributionName\">Alejandro Bolívar</span> is licensed under a <a rel=\"license\" href=\"http://creativecommons.org/licenses/by-nc-sa/4.0/\">Creative Commons Reconocimiento-NoComercial-CompartirIgual 4.0 Internacional License</a>.\n",
    "\n",
    "\n",
    "<p style=\"text-align: center\">&copy; Alejandro Bolívar. 2020.</p>"
   ]
  }
 ],
 "metadata": {
  "kernelspec": {
   "display_name": "Python 3",
   "language": "python",
   "name": "python3"
  },
  "language_info": {
   "codemirror_mode": {
    "name": "ipython",
    "version": 3
   },
   "file_extension": ".py",
   "mimetype": "text/x-python",
   "name": "python",
   "nbconvert_exporter": "python",
   "pygments_lexer": "ipython3",
   "version": "3.6.7"
  },
  "toc": {
   "base_numbering": 1,
   "nav_menu": {},
   "number_sections": true,
   "sideBar": true,
   "skip_h1_title": false,
   "title_cell": "Table of Contents",
   "title_sidebar": "Contents",
   "toc_cell": false,
   "toc_position": {},
   "toc_section_display": true,
   "toc_window_display": false
  },
  "varInspector": {
   "cols": {
    "lenName": 16,
    "lenType": 16,
    "lenVar": 40
   },
   "kernels_config": {
    "python": {
     "delete_cmd_postfix": "",
     "delete_cmd_prefix": "del ",
     "library": "var_list.py",
     "varRefreshCmd": "print(var_dic_list())"
    },
    "r": {
     "delete_cmd_postfix": ") ",
     "delete_cmd_prefix": "rm(",
     "library": "var_list.r",
     "varRefreshCmd": "cat(var_dic_list()) "
    }
   },
   "types_to_exclude": [
    "module",
    "function",
    "builtin_function_or_method",
    "instance",
    "_Feature"
   ],
   "window_display": false
  }
 },
 "nbformat": 4,
 "nbformat_minor": 1
}
